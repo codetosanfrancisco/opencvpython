{
 "cells": [
  {
   "cell_type": "code",
   "execution_count": 1,
   "metadata": {},
   "outputs": [],
   "source": [
    "import cv2\n",
    "import numpy as np"
   ]
  },
  {
   "cell_type": "code",
   "execution_count": null,
   "metadata": {},
   "outputs": [],
   "source": [
    "cap = cv2.VideoCapture(0)\n",
    "\n",
    "ret, frame1 = cap.read()\n",
    "\n",
    "prvsImg = cv2.cvtColor(frame1, cv2.COLOR_BGR2GRAY)\n",
    "\n",
    "hsv_mask = np.zeros_like(frame1)\n",
    "\n",
    "hsv_mask[:,:,1] = 255\n",
    "\n",
    "while True:\n",
    "    \n",
    "    ret, frame2 = cap.read()\n",
    "    \n",
    "    nextImg = cv2.cvtColor(frame2, cv2.COLOR_BGR2GRAY)\n",
    "    \n",
    "    # Calculate dense optical flow with Farneback\n",
    "    flow = cv2.calcOpticalFlowFarneback(prvsImg, nextImg, None, pyr_scale = 0.5, levels = 5, winsize = 11, iterations = 5, poly_n = 5, poly_sigma = 1.1, flags = 0)\n",
    "    \n",
    "    # Compute the magnitude and angle of the 2D vectors: x vector and y vector\n",
    "    magnitude, angle = cv2.cartToPolar(flow[:,:,0], flow[:,:,1], angleInDegrees=True)\n",
    "    \n",
    "    # Set image hue according to the optical flow direction\n",
    "    hsv_mask[:,:,0] = angle\n",
    "        \n",
    "    # Set image value according to the optical flow magnitude (normalized)\n",
    "    hsv_mask[:,:,2] = cv2.normalize(magnitude, None, 0, 255, cv2.NORM_MINMAX)\n",
    "    \n",
    "    # Convert HSV to RGB (BGR) color representation\n",
    "    rgb = cv2.cvtColor(hsv_mask, cv2.COLOR_HSV2BGR)\n",
    "    \n",
    "    # Open a new window and displays the output frame\n",
    "    dense_flow = cv2.addWeighted(frame2, 1,rgb, 1, 0)\n",
    "    cv2.imshow(\"Dense optical flow\", dense_flow)\n",
    "    \n",
    "    # Update previous frame\n",
    "    prvsImg = nextImg\n",
    "    \n",
    "    # Frame are read by intervals of 10 millisecond. The programs breaks out of the while loop when the user presses the ‘q’ key\n",
    "    if cv2.waitKey(10) & 0xFF == ord('q'):\n",
    "        break\n",
    "        \n",
    "cap.release()\n",
    "cv2.destroyAllWindows()"
   ]
  },
  {
   "cell_type": "code",
   "execution_count": null,
   "metadata": {},
   "outputs": [],
   "source": []
  }
 ],
 "metadata": {
  "kernelspec": {
   "display_name": "Python 3",
   "language": "python",
   "name": "python3"
  },
  "language_info": {
   "codemirror_mode": {
    "name": "ipython",
    "version": 3
   },
   "file_extension": ".py",
   "mimetype": "text/x-python",
   "name": "python",
   "nbconvert_exporter": "python",
   "pygments_lexer": "ipython3",
   "version": "3.7.4"
  }
 },
 "nbformat": 4,
 "nbformat_minor": 2
}
