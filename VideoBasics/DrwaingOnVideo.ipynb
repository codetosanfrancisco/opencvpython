{
 "cells": [
  {
   "cell_type": "code",
   "execution_count": null,
   "metadata": {},
   "outputs": [],
   "source": [
    "import cv2\n",
    "\n",
    "\n",
    "## Global variable\n",
    "pt1 = (0,0)\n",
    "pt2 = (0,0)\n",
    "\n",
    "topLeft_Clicked = False\n",
    "botRight_Clicked = False\n",
    "\n",
    "## Call back function Rectangle\n",
    "def draw_rectangle(event,x,y, flags, param):\n",
    "        \n",
    "    # To refer to the global variable \n",
    "    global pt1, pt2, topLeft_Clicked, botRight_Clicked\n",
    "    \n",
    "    if event == cv2.EVENT_LBUTTONDOWN:\n",
    "        \n",
    "        if topLeft_Clicked and botRight_Clicked:\n",
    "            \n",
    "            pt1 = (0,0)\n",
    "            pt2 = (0,0)\n",
    "            topLeft_Clicked = False\n",
    "            botRight_Clicked = False\n",
    "            \n",
    "        if topLeft_Clicked == False:\n",
    "            \n",
    "            pt1 = (x,y)\n",
    "            topLeft_Clicked = True\n",
    "            \n",
    "        elif botRight_Clicked == False:\n",
    "            \n",
    "            pt2 = (x,y)\n",
    "            botRight_Clicked = True\n",
    "\n",
    "\n",
    "# Connecr to callback\n",
    "cap = cv2.VideoCapture(0)\n",
    "cv2.namedWindow('Test')\n",
    "cv2.setMouseCallback('Test', draw_rectangle)\n",
    "\n",
    "while True:\n",
    "    ret, frame = cap.read()\n",
    "    \n",
    "    # Drawing on frame based on the global variable\n",
    "    if topLeft_Clicked:\n",
    "        cv2.circle(frame, center= pt1, radius=5, color=(0,0,255), thickness=5)\n",
    "        \n",
    "    if topLeft_Clicked and botRight_Clicked:\n",
    "        cv2.rectangle(frame, pt1,pt2, (0,0,255), thickness=5)\n",
    "    \n",
    "    cv2.imshow('Test', frame)\n",
    "    \n",
    "    if cv2.waitKey(1) & 0xFF == ord('q'):\n",
    "        break\n",
    "        \n",
    "cap.release()\n",
    "cv2.destroyAllWindows()"
   ]
  },
  {
   "cell_type": "code",
   "execution_count": 1,
   "metadata": {},
   "outputs": [
    {
     "data": {
      "text/plain": [
       "3.3333333333333335"
      ]
     },
     "execution_count": 1,
     "metadata": {},
     "output_type": "execute_result"
    }
   ],
   "source": [
    "10/3"
   ]
  },
  {
   "cell_type": "code",
   "execution_count": 2,
   "metadata": {},
   "outputs": [
    {
     "data": {
      "text/plain": [
       "3"
      ]
     },
     "execution_count": 2,
     "metadata": {},
     "output_type": "execute_result"
    }
   ],
   "source": [
    "10//3"
   ]
  },
  {
   "cell_type": "code",
   "execution_count": null,
   "metadata": {},
   "outputs": [],
   "source": []
  }
 ],
 "metadata": {
  "kernelspec": {
   "display_name": "Python 3",
   "language": "python",
   "name": "python3"
  },
  "language_info": {
   "codemirror_mode": {
    "name": "ipython",
    "version": 3
   },
   "file_extension": ".py",
   "mimetype": "text/x-python",
   "name": "python",
   "nbconvert_exporter": "python",
   "pygments_lexer": "ipython3",
   "version": "3.7.4"
  }
 },
 "nbformat": 4,
 "nbformat_minor": 2
}
